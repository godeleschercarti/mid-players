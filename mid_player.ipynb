{
 "cells": [
  {
   "cell_type": "code",
   "execution_count": 1,
   "id": "bf986489-efe8-4600-90b9-e08b753495be",
   "metadata": {},
   "outputs": [],
   "source": [
    "import pandas as pd\n",
    "import requests\n",
    "import time\n",
    "from bs4 import BeautifulSoup"
   ]
  },
  {
   "cell_type": "code",
   "execution_count": 2,
   "id": "f513cd79-f2c9-4637-a9ba-51678b241cc1",
   "metadata": {},
   "outputs": [],
   "source": [
    "url = \"https://www.basketball-reference.com/leagues/NBA_2024_per_poss.html\"\n",
    "response = requests.get(url)\n",
    "soup = BeautifulSoup(response.text, \"html.parser\")\n",
    "table = soup.find_all('table')"
   ]
  },
  {
   "cell_type": "code",
   "execution_count": 3,
   "id": "74a5e68b-c676-467a-94f3-7f6afb821a0c",
   "metadata": {},
   "outputs": [],
   "source": [
    "df = pd.read_html(str(table))[0]\n",
    "df = df[df.G != \"G\"].copy()\n",
    "df.G = pd.to_numeric(df.G)\n",
    "df = df[(~df.Player.duplicated()) & (df.G >= 58)].copy()\n",
    "df.Pos = df.Pos.apply(lambda x: x.split(\"-\")[0])"
   ]
  },
  {
   "cell_type": "code",
   "execution_count": 4,
   "id": "6dd7e49d-2f62-4a87-8e12-98aec66237f4",
   "metadata": {},
   "outputs": [],
   "source": [
    "stats = [\"PTS\", \"TRB\", \"AST\", \"STL\", \"BLK\", \"FG%\", \"3P%\", \"FT%\"]\n",
    "positions = df.Pos.unique()\n",
    "positions_df = []"
   ]
  },
  {
   "cell_type": "code",
   "execution_count": 5,
   "id": "ea0ecee8-3f97-47bb-b6c0-8a408bc1b808",
   "metadata": {},
   "outputs": [],
   "source": [
    "for position in positions:\n",
    "    ndf = df[df.Pos == position].copy()\n",
    "    ndf[\"TOT_VAR\"] = 0\n",
    "    stats_var = []\n",
    "    for stat in stats:\n",
    "        ndf[stat] = pd.to_numeric(ndf[stat])\n",
    "        med = ndf[stat].median()\n",
    "        var = ndf[stat].std()\n",
    "        var_name = f\"{stat}_VAR\"\n",
    "        ndf[var_name] = round((ndf[stat] - med)/var, 2)\n",
    "        ndf[var_name] = ndf[var_name].fillna(3) #Assume variance of 3 \n",
    "        stats_var.append(var_name)\n",
    "        ndf[\"TOT_VAR\"] = round(ndf[\"TOT_VAR\"] + abs(ndf[var_name]), 2)\n",
    "        \n",
    "    ndf = ndf[[\"Player\", \"Tm\", \"G\", \"Pos\"] + stats + stats_var + [\"TOT_VAR\"]].copy()\n",
    "    positions_df.append(ndf)"
   ]
  },
  {
   "cell_type": "code",
   "execution_count": 6,
   "id": "87fcb468-1491-44fc-ab9e-abdd620e97e4",
   "metadata": {},
   "outputs": [],
   "source": [
    "df = pd.concat(positions_df)\n",
    "df.sort_values(by=\"Player\").reset_index(drop=True).to_csv('variances_2024.csv')"
   ]
  },
  {
   "cell_type": "code",
   "execution_count": null,
   "id": "546803a8-4eff-4b8d-a808-824d6f79f8eb",
   "metadata": {},
   "outputs": [],
   "source": []
  }
 ],
 "metadata": {
  "kernelspec": {
   "display_name": "Python 3 (ipykernel)",
   "language": "python",
   "name": "python3"
  },
  "language_info": {
   "codemirror_mode": {
    "name": "ipython",
    "version": 3
   },
   "file_extension": ".py",
   "mimetype": "text/x-python",
   "name": "python",
   "nbconvert_exporter": "python",
   "pygments_lexer": "ipython3",
   "version": "3.10.6"
  }
 },
 "nbformat": 4,
 "nbformat_minor": 5
}
